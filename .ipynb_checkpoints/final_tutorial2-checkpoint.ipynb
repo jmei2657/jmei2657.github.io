{
 "cells": [
  {
   "cell_type": "markdown",
   "metadata": {},
   "source": [
    "# A Deep Dive into Betting Statistics of the NFL\n",
    "\n",
    "## Jonathan Mei and Eddy Qiu\n",
    "\n",
    "## Introduction\n",
    "\n",
    "The National Football League (NFL) is the premier American football league of the United States. The league boasts 32 teams overall, split into 2 divisions, the NFC and the AFC. Each conference is further split into 4 divisions of 4 clubs. Each team will engage in a preseason, regular season, and postseason. In this analysis, we will focus on the regular season and postseason as the preseason does not count on a team’s win-loss record and is usually not taken as seriously as the games after. Each game attracts a sea of fans in person and through the television, all eager to see how a rumble between two teams turns out. \n",
    "\n",
    "Fans who are really into these games engage in sports betting, believing that their expertise translates into possible monetary gain. Sports betting is where a bettor puts their money on a prediction, cashing out a certain amount if their prediction is realized. In this age of increased access to data and analysis methods, betting strategies and statistics have become much more rigorous.\n",
    "\n",
    "Three main bets are popular on betting websites: the spread, the over/under, and the money line. \n",
    "Spread - The difference between the final score of the two teams, or how much better one team is over another. For example, when you bet on a spread X for Team A vs Team B respectively, you win if Team A wins by over X points, lose if Team A loses by more than 1 point, and get your money back if they tie (called a “push”)\n",
    "Over/Under - The sum of points between both teams in a game. Again, if the final score is equal to the over/under, there is a push and both betting parties get their money back.\n",
    "Moneyline - Winner/Loser of the game\n",
    "\n",
    "Each wager has odds set by oddsmakers. In essence, there are usually positive odds and negative odds. If a wager has negative odds, such as -200, this means that a bet of \\$200, if predicted correctly, will profit \\$100. On the other hand, if a wager has positive odds, such as +300, this means that a bet of \\$100 will profit \\$300. Thus, a wager favoring a team with positive odds makes that team an “underdog” and vice versa.\n",
    "\n",
    "There are a multitude of factors that go into the outcome of a game. A well-known trend is the “home-field advantage,” shown by a significant majority of lines favoring the home team in sports betting. In this comprehensive analysis, we will take a deeper dive into other possible factors such as team win percentage for the season and different weather factors on the spread, over/under, and moneyline. Some additional resources for further research could be betting sites like Draftkings, BetMGM, FanDuel, and research papers like https://creativematter.skidmore.edu/cgi/viewcontent.cgi?article=1166&context=econ_studt_schol."
   ]
  },
  {
   "cell_type": "code",
   "execution_count": null,
   "metadata": {
    "vscode": {
     "languageId": "plaintext"
    }
   },
   "outputs": [],
   "source": [
    "import pandas as pd\n",
    "import numpy as np\n",
    "import matplotlib.pyplot as plt"
   ]
  },
  {
   "cell_type": "markdown",
   "metadata": {},
   "source": []
  },
  {
   "cell_type": "markdown",
   "metadata": {},
   "source": []
  },
  {
   "cell_type": "markdown",
   "metadata": {},
   "source": []
  }
 ],
 "metadata": {
  "language_info": {
   "name": "python"
  }
 },
 "nbformat": 4,
 "nbformat_minor": 2
}
